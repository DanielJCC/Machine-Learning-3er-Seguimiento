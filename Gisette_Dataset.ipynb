{
 "cells": [
  {
   "cell_type": "markdown",
   "metadata": {},
   "source": [
    "Trabajo ejemplo tomado del curso de Inteligencia Artificial IA2023II. El ejemplo está construido con un conjunto de datos disponible en Kaggle: https://www.kaggle.com/datasets/fedesoriano/gisette-dataset-mnist-digits-4-and-9/data"
   ]
  },
  {
   "attachments": {
    "image.png": {
     "image/png": "[encoded data removed]"
    }
   },
   "cell_type": "markdown",
   "metadata": {},
   "source": [
    "# Gisette Dataset (MNIST digits 4 and 9)\n",
    "En el actual notebook se encuentra el código necesario para realizar los diferentes métodos de Machine Learning:\n",
    "* Arbol de decisión\n",
    "* Random Forest\n",
    "* Redes Neuronales\n",
    "* Redes Neuronales Profundas\n",
    "\n",
    "## Descipción del problema\n",
    "El problema de **GISETTE** es un problema de reconocimiento de dígitos escritos a mano. Es un problema de clasificación el cual consiste en separar los dígitos '4' y '9', que son altamente confusos.\n",
    "\n",
    "\n",
    "Este dataset fue usado originalmente en un taller de NIPS (Neural Information Processing Systems), una conferencia en la que llegan varios investigadores de distintas partes del mundo a dar charlas, que usualmente son seguidas por un taller en el que varios grupos de investigadores participan en una competencia para ver quien puede puede proponer el mejor algoritmo de **feature selection**. \n",
    "\n",
    "Los autores a los que se le atribuye la publicación del dataset son:\n",
    "* Isabelle Guyon\n",
    "* Steve Gunn\n",
    "* Asa Ben-Hur\n",
    "* Gideon Dror\n",
    "\n",
    "Sin embargo, para esta implementación utilizaremos la versión modificada por un usuario de Kaggle llamado *fedesoriano*, que la ha montado en la misma plataforma. Su trabajo fue el de reunir todas las imagenes y Labels en el mismo archivo para posteriormente convertirlas en un archivo pickle, de manera que sea mas fácil de acceder y cargar los datos para su uso. El dataset está disponible en el [siguiente link](https://www.kaggle.com/datasets/fedesoriano/gisette-dataset-mnist-digits-4-and-9/data).\n",
    "\n",
    "Los dígitos y datos originales fueron preprocesados, ya que las imágenes de los dígitos fueron todas normalizadas a un tamaño de 28x28 pixeles. Los siguientes son ejemplos de las imágenes:\n",
    "\n",
    "![image.png](attachment:image.png)\n",
    "\n",
    "Sin embargo, solamente se usaron ciertos píxeles de la parte superior central de la imagen (muestreados al azar) para crear este dataset y por último se crearon nuevas características multiplicando los valores de algunos pixeles para aumentar la dimensionalidad.\n",
    "\n",
    "El reto que nos propone el dataset es construir un algoritmo de aprendizaje automático que sea capaz de seleccionar las características apropiadas, ya que el conjunto de datos incluye un total de 5000 características de las cuales 2500 no tienen poder predictivo.\n",
    "\n",
    "## Contenido del dataset\n",
    "Para poder realizar una visualización de los datos necesitaremos las siguientes librerías:"
   ]
  },
  {
   "cell_type": "code",
   "execution_count": null,
   "metadata": {},
   "outputs": [],
   "source": [
    "import pandas as pd\n",
    "import numpy as np\n",
    "import seaborn as sns\n",
    "import matplotlib.pyplot as plt\n",
    "from sklearn.decomposition import PCA\n",
    "from sklearn import tree, ensemble, neural_network\n",
    "from sklearn import preprocessing\n",
    "from sklearn.metrics import confusion_matrix\n",
    "from sklearn.metrics import classification_report"
   ]
  },
  {
   "cell_type": "markdown",
   "metadata": {},
   "source": [
    "Como los datos se encuentran en el archivo gisette.pickle, tenemos que exportar los datos."
   ]
  },
  {
   "cell_type": "code",
   "execution_count": null,
   "metadata": {},
   "outputs": [],
   "source": [
    "gisette_data = pd.read_pickle(r'gisette.pickle')\n",
    "gisette_data"
   ]
  },
  {
   "cell_type": "markdown",
   "metadata": {},
   "source": [
    "Confirmamos que los datos están guardados en forma de diccionario"
   ]
  },
  {
   "cell_type": "code",
   "execution_count": null,
   "metadata": {},
   "outputs": [],
   "source": [
    "type(gisette_data)"
   ]
  },
  {
   "cell_type": "markdown",
   "metadata": {},
   "source": [
    "Mostramos las llaves de este diccionario."
   ]
  },
  {
   "cell_type": "code",
   "execution_count": null,
   "metadata": {},
   "outputs": [],
   "source": [
    "gisette_data.keys()"
   ]
  },
  {
   "cell_type": "markdown",
   "metadata": {},
   "source": [
    "Estas contienen otra llave que separa los datos puros de sus Labels o variable a predecir, a excepción de la de testing."
   ]
  },
  {
   "cell_type": "code",
   "execution_count": null,
   "metadata": {},
   "outputs": [],
   "source": [
    "print('Training keys: ',gisette_data['training'].keys())\n",
    "print('Validation keys: ',gisette_data['validation'].keys())\n",
    "print('Testing keys: ',gisette_data['testing'].keys())"
   ]
  },
  {
   "cell_type": "markdown",
   "metadata": {},
   "source": [
    "Recapitulando, este dataset nos devuelve un diccionario, el cual contiene 3 claves: **training**, **validation** y **testing**. Cada una de estas claves tiene su valor, en la que cada valor son los datos o características representados como **data** y la variable a predecir llamada **labels** a excepción de **testing** que simplemente tiene los datos y no la variable a predecir. \n",
    "\n",
    "En este caso la variable a predecir o **labels** representan si es un 4 o un 9, por lo cual si *label=-1* representa al dígito 9 y si *label=1* representa al dígito 4. Ya que el resultado es binario, es decir solo puede ser 1 o -1, nos encontramos con un problema de **clasificación**, en el que nuestros algoritmos tienen que predecir el valor de una variable discreta.\n",
    "\n",
    "Se observa igualmente que los datos que nos proporciona el dataset para entrenar, validar y testear el modelo tienen diferentes ejemplos o filas. Sin embargo, para testear el modelo, utilizaremos los datos que nos proporciona *validation* ya que los datos de *testing* no tienen una variable a predecir, y nuestra intención es realizar un aprendizaje supervisado."
   ]
  },
  {
   "cell_type": "code",
   "execution_count": null,
   "metadata": {},
   "outputs": [],
   "source": [
    "print('Examples of training data:',len(gisette_data['training']['data']))\n",
    "print('Examples of validation data:',len(gisette_data['validation']['data']))\n",
    "print('Examples of testing data:',len(gisette_data['testing']['data']))"
   ]
  },
  {
   "cell_type": "markdown",
   "metadata": {},
   "source": [
    "## Análisis de los datos\n",
    "Para poder analizar los datos, utilizaremos el conjunto de datos de **training** y lo convertiremos a un objeto de tipo DataFrame. Luego se muestra información importante sobre los datos.\n",
    "\n",
    "Como las carácteristicas que tenemos en este conjunto de datos no tienen algún nombre, ya que son un *color de escala de grises* pertenecientes a un *pixel cualquiera*, y estos pixeles que nos entrega están desordenados, decidimos colocarle el nombre genérico de \"feature_x\" a cada carácteristica donde x es el orden en el que aparecen al visualizar la tabla. Por último agregamos la columna de los Labels al final para su visualización."
   ]
  },
  {
   "cell_type": "code",
   "execution_count": null,
   "metadata": {},
   "outputs": [],
   "source": [
    "training_data = gisette_data['training']['data']\n",
    "training_labels = gisette_data['training']['labels']\n",
    "# Convertir los datos en un objeto de tipo DataFrame de la libreria Pandas\n",
    "X = pd.DataFrame(data=training_data, columns=['feature_'+str(i) for i in range(len(training_data[0]))])\n",
    "X['labels'] = training_labels\n",
    "# Se muestra la información de los datos\n",
    "X.info(verbose=True, show_counts = True)"
   ]
  },
  {
   "cell_type": "markdown",
   "metadata": {},
   "source": [
    "Aquí podemos ver que no hay algun dato nulo o faltante en el conjunto, lo cual es muy conveniente ya que nos ayuda a omitir gran parte de los pasos de limpieza de datos.\n",
    "\n",
    "Igualmente, veremos unos datos adicionales que nos proporciona la libería *Pandas* al utilizar uno de sus métodos, el cual nos permitirá tener un mejor entendimiento de los datos ahora que los podemos visualizar."
   ]
  },
  {
   "cell_type": "code",
   "execution_count": null,
   "metadata": {},
   "outputs": [],
   "source": [
    "X.describe()"
   ]
  },
  {
   "cell_type": "markdown",
   "metadata": {},
   "source": [
    "Como se puede observar, el conjunto de datos contiene en total 5000 características, representadas en este caso desde el pixel 0 al pixel 4999 y en la columna 5000 el valor de label en cada respectivo ejemplo.\n",
    "## Distribución de las Clases\n",
    "Visualizando la distribución de las clases a través de un histograma."
   ]
  },
  {
   "cell_type": "code",
   "execution_count": null,
   "metadata": {},
   "outputs": [],
   "source": [
    "ax=plt.subplots(1,1,figsize=(10,8))\n",
    "sns.countplot(data=X, x=\"labels\")\n",
    "plt.title(\"Labels Count\")\n",
    "plt.show()"
   ]
  },
  {
   "cell_type": "markdown",
   "metadata": {},
   "source": [
    "Como ya vimos anteriomente nuestro conjunto de datos de entrenamiento tiene 6000 ejemplos, y teniendo en cuenta el gráfico anterior, nuestro conjunto de datos se encuentra balanceado debido a que cada clase tiene, según el gráfico, 3000 ejemplos."
   ]
  },
  {
   "cell_type": "markdown",
   "metadata": {},
   "source": [
    "## Feature Engineering\n",
    "En primer lugar separamos las variables predictoras de las variables a predecir"
   ]
  },
  {
   "cell_type": "code",
   "execution_count": null,
   "metadata": {},
   "outputs": [],
   "source": [
    "X_train = X.drop(['labels'], axis=1) # Separa las variables predictoras de las variable a predecir\n",
    "y_train = X['labels']"
   ]
  },
  {
   "cell_type": "markdown",
   "metadata": {},
   "source": [
    "Luego aplicamos el método de Principal Component Analysis (PCA) para poder realizar una reducción de la dimensionalidad evaluando que la varianza de los datos no varíe mucho, por lo que debe ser cercano a 1"
   ]
  },
  {
   "cell_type": "code",
   "execution_count": null,
   "metadata": {},
   "outputs": [],
   "source": [
    "# Principal Component Analysis\n",
    "pca = PCA()\n",
    "\n",
    "X_train_PCA = pca.fit_transform(X_train)\n",
    "cumsum = np.cumsum(pca.explained_variance_ratio_)\n",
    "plt.plot(cumsum)\n",
    "plt.xlabel('Dimensiones')\n",
    "plt.ylabel('Varianza')\n",
    "plt.title(\"Explained Variance PCA\")\n",
    "plt.show()\n",
    "train_index = range(0,len(X_train))\n",
    "X_train_PCA = pd.DataFrame(data=X_train_PCA, index=train_index)"
   ]
  },
  {
   "cell_type": "markdown",
   "metadata": {},
   "source": [
    "A continuación evaluaremos la varianza de todo el conjunto de datos de entrenamiento."
   ]
  },
  {
   "cell_type": "code",
   "execution_count": null,
   "metadata": {},
   "outputs": [],
   "source": [
    "# Percentage of Variance Captured by 784 principal components\n",
    "print(\"Variance Explained by all 5000 principal components: \", \\\n",
    "      sum(pca.explained_variance_ratio_))"
   ]
  },
  {
   "cell_type": "markdown",
   "metadata": {},
   "source": [
    "La varianza es *muy alta*, aproximándose a 1 lo cual es algo muy beneficioso. Sin embargo, al tener 5000 carácteristicas tenemos que evaluar si se puede reducir la dimensionalidad, veremos a continuación que tanto se reduce la varianza si tomamos una muestra mas pequeña de datos."
   ]
  },
  {
   "cell_type": "code",
   "execution_count": null,
   "metadata": {},
   "outputs": [],
   "source": [
    "# Percentage of Variance Captured by X principal components\n",
    "importanceOfPrincipalComponents = \\\n",
    "    pd.DataFrame(data=pca.explained_variance_ratio_)\n",
    "importanceOfPrincipalComponents = importanceOfPrincipalComponents.T\n",
    "\n",
    "print('Variance Captured by First 1000 Principal Components: ',\n",
    "      importanceOfPrincipalComponents.loc[:,0:999].sum(axis=1).values)\n",
    "print('Variance Captured by First 1500 Principal Components: ',\n",
    "      importanceOfPrincipalComponents.loc[:,0:1499].sum(axis=1).values)\n",
    "print('Variance Captured by First 2000 Principal Components: ',\n",
    "      importanceOfPrincipalComponents.loc[:,0:1999].sum(axis=1).values)\n",
    "print('Variance Captured by First 2500 Principal Components: ',\n",
    "      importanceOfPrincipalComponents.loc[:,0:2499].sum(axis=1).values)\n",
    "print('Variance Captured by First 3000 Principal Components: ',\n",
    "      importanceOfPrincipalComponents.loc[:,0:2999].sum(axis=1).values)\n",
    "print('Variance Captured by First 3500 Principal Components: ',\n",
    "      importanceOfPrincipalComponents.loc[:,0:3499].sum(axis=1).values)"
   ]
  },
  {
   "cell_type": "markdown",
   "metadata": {},
   "source": [
    "Como se puede observar las varianzas a partir de 3500 datos en adelante ya son muy cercanas a 1, por lo que podríamos aplicar nuestra primera reducción.\n",
    "\n",
    "En este caso, realizaremos una reducción de 2500 dimensiones o características ya que al eliminarlas podemos observar que la varianza sigue siendo cercana a 1, por lo que es una muy buena opción."
   ]
  },
  {
   "cell_type": "code",
   "execution_count": null,
   "metadata": {},
   "outputs": [],
   "source": [
    "# Another option to delete features\n",
    "# X_train = X_train_PCA[X_train_PCA.columns[:-2500]]\n",
    "# X_train\n",
    "pca = PCA(n_components=2500)\n",
    "X_train_PCA = pca.fit_transform(X_train)\n",
    "X_train_PCA = pd.DataFrame(data=X_train_PCA, index=train_index)\n",
    "X_train_PCA"
   ]
  },
  {
   "cell_type": "code",
   "execution_count": null,
   "metadata": {},
   "outputs": [],
   "source": [
    "\n",
    "def scatterPlot(xDF, yDF, algoName, col1, col2):\n",
    "    tempDF = pd.DataFrame(data=xDF.loc[:,[col1,col2]], index=xDF.index)\n",
    "    tempDF = pd.concat((tempDF,yDF), axis=1, join=\"inner\")\n",
    "    v1 = f\"Vector_{col1}\"\n",
    "    v2 = f\"Vector_{col2}\"\n",
    "    tempDF.columns = [v1, v2, \"Label\"]\n",
    "    sns.lmplot(x=v1, y=v2, hue=\"Label\", \\\n",
    "               data=tempDF, fit_reg=False)\n",
    "    ax = plt.gca()\n",
    "    ax.set_title(\"Separation of Observations using \"+algoName)\n",
    "\n",
    "scatterPlot(X_train, y_train, \"Original Features\", 'feature_0', 'feature_1')\n",
    "scatterPlot(X_train_PCA, y_train, \"PCA\", 0, 1)\n"
   ]
  },
  {
   "cell_type": "markdown",
   "metadata": {},
   "source": [
    "Ya eliminadas las dimensiones de nuestro dataset de entrenamiento, tenemos que transformar igualmente los datos que utilizaremos para testear el modelo, por lo que utilizaremos los mismos egenvectores creados anteriormente en nuestro PCA para convertir nuestros datos"
   ]
  },
  {
   "cell_type": "code",
   "execution_count": null,
   "metadata": {},
   "outputs": [],
   "source": [
    "validation_data = gisette_data['validation']['data']\n",
    "y_validation = gisette_data['validation']['labels']\n",
    "\n",
    "X_validation = pd.DataFrame(data=validation_data, columns=['feature_'+str(i) for i in range(len(validation_data[0]))])\n",
    "X_validation_PCA = pca.transform(X_validation)\n",
    "validation_index = range(0,len(X_validation))\n",
    "X_validation_PCA = pd.DataFrame(data=X_validation_PCA, index=validation_index)\n",
    "X_validation_PCA"
   ]
  },
  {
   "cell_type": "markdown",
   "metadata": {},
   "source": [
    "### Prueba de feature selection\n",
    "**Filter method:** Luego de llevar a cabo el método de PCA para reducir dimensionalidad realizaremos un método de selección de características y en este caso en particular será el método de filtro de correlación, por medio del cual eliminaremos las variables que menos correlación tengan con la variable a predecir usando correlación de Spearman"
   ]
  },
  {
   "cell_type": "code",
   "execution_count": null,
   "metadata": {},
   "outputs": [],
   "source": [
    "fs = pd.DataFrame(X_train_PCA)\n",
    "fs['target'] = y_train\n",
    "corr_matrix = fs.corr(method='spearman')\n",
    "corr_matrix = corr_matrix.abs().unstack()\n",
    "corr_target = corr_matrix['target'].sort_values(ascending=False) \n",
    "corr_target"
   ]
  },
  {
   "cell_type": "code",
   "execution_count": null,
   "metadata": {},
   "outputs": [],
   "source": [
    "plt.plot(corr_target.values)\n",
    "plt.title(\"Correlación de las características con la variable a predecir\")\n",
    "plt.show()"
   ]
  },
  {
   "cell_type": "markdown",
   "metadata": {},
   "source": [
    "Como se puede observar, existen aproximadamente 2000 características que no tienen mucha correlación con respecto a la variable a predecir, por lo tanto, seleccionaremos un umbral de 0.056 para seleccionar nuestras características."
   ]
  },
  {
   "cell_type": "code",
   "execution_count": null,
   "metadata": {},
   "outputs": [],
   "source": [
    "# features_selected = corr_target[corr_target > 0.056]\n",
    "features_selected = corr_target[corr_target > 0.10]\n",
    "features_selected"
   ]
  },
  {
   "cell_type": "markdown",
   "metadata": {},
   "source": [
    "Como se puede observar, claramente seleccionando 19 características tendríamos suficiente para entrenar los modelos con gran precisión, por lo cual seleccionaremos las 19 características anteriormente vistas tanto en los datos de entrenamiento como en los datos de prueba"
   ]
  },
  {
   "cell_type": "code",
   "execution_count": null,
   "metadata": {},
   "outputs": [],
   "source": [
    "X_train_fs = X_train_PCA[features_selected.index.drop(\"target\")]\n",
    "X_test_fs = X_validation_PCA[features_selected.index.drop(\"target\")]\n",
    "X_train_fs"
   ]
  },
  {
   "cell_type": "markdown",
   "metadata": {},
   "source": [
    "Luego de esto podremos entrenar los métodos para comparar entre hacer o no hacer selección de características y observar su efectividad."
   ]
  },
  {
   "cell_type": "markdown",
   "metadata": {},
   "source": [
    "## Pruebas de eficacia\n",
    "Para probar la eficiencia de la selección de características y con ánimos de observar si nuestro modelo no queda sobre ajustado a los datos de entrenamiento, entrenaremos dos modelos, uno con las 20 características después de aplicar selección de características y otro con las 2500 características luego de aplicar reducción de dimensionalidad.\n",
    "\n",
    "Todos los modelos tendrán los parámetros por defecto para tener igualdad de condiciones.\n",
    "\n",
    "**Arbol de decisiones**"
   ]
  },
  {
   "cell_type": "code",
   "execution_count": null,
   "metadata": {},
   "outputs": [],
   "source": [
    "clf_PCA = tree.DecisionTreeClassifier(criterion='entropy', splitter='best')\n",
    "clf_fs = tree.DecisionTreeClassifier(criterion='entropy', splitter='best')\n",
    "clf_PCA = clf_PCA.fit(X_train_PCA,y_train)\n",
    "clf_fs = clf_fs.fit(X_train_fs,y_train)\n",
    "\n",
    "#Evaluación en el conjunto de prueba\n",
    "y_pred_PCA = clf_PCA.predict(X_validation_PCA)\n",
    "y_pred_fs = clf_fs.predict(X_test_fs)\n",
    "print('=========================== ACCURACY WITH PCA ===========================')\n",
    "print('Accuracy de RandomForestClassifier sobre el conjunto de entrenamiento es: {:.2f}'.format(clf_PCA.score(X_train_PCA, y_train)))\n",
    "print('Accuracy de RandomForestClassifier sobre el conjunto de prueba es: {:.2f}'.format(clf_PCA.score(X_validation_PCA, y_validation))) \n",
    "print('=========================== ACCURACY WITH FS ===========================')\n",
    "print('Accuracy de RandomForestClassifier sobre el conjunto de entrenamiento es: {:.2f}'.format(clf_fs.score(X_train_fs, y_train)))\n",
    "print('Accuracy de RandomForestClassifier sobre el conjunto de prueba es: {:.2f}'.format(clf_fs.score(X_test_fs, y_validation))) "
   ]
  },
  {
   "cell_type": "markdown",
   "metadata": {},
   "source": [
    "**Random Forest**"
   ]
  },
  {
   "cell_type": "code",
   "execution_count": null,
   "metadata": {},
   "outputs": [],
   "source": [
    "rf_PCA = ensemble.RandomForestClassifier(criterion='entropy')\n",
    "rf_fs = ensemble.RandomForestClassifier(criterion='entropy')\n",
    "rf_PCA = rf_PCA.fit(X_train_PCA,y_train)\n",
    "rf_fs = rf_fs.fit(X_train_fs,y_train)\n",
    "\n",
    "y_pred_PCA = rf_PCA.predict(X_validation_PCA)\n",
    "y_pred_fs = rf_fs.predict(X_test_fs)\n",
    "print('=========================== ACCURACY WITH PCA ===========================')\n",
    "print('Accuracy de RandomForestClassifier sobre el conjunto de entrenamiento es: {:.2f}'.format(rf_PCA.score(X_train_PCA, y_train)))\n",
    "print('Accuracy de RandomForestClassifier sobre el conjunto de prueba es: {:.2f}'.format(rf_PCA.score(X_validation_PCA, y_validation))) \n",
    "print('=========================== ACCURACY WITH FS ===========================')\n",
    "print('Accuracy de RandomForestClassifier sobre el conjunto de entrenamiento es: {:.2f}'.format(rf_fs.score(X_train_fs, y_train)))\n",
    "print('Accuracy de RandomForestClassifier sobre el conjunto de prueba es: {:.2f}'.format(rf_fs.score(X_test_fs, y_validation))) "
   ]
  },
  {
   "cell_type": "markdown",
   "metadata": {},
   "source": [
    "**Redes neuronales**"
   ]
  },
  {
   "cell_type": "code",
   "execution_count": null,
   "metadata": {},
   "outputs": [],
   "source": [
    "# Se realiza el escalamiento de los datos para que el modelo converja más rápido\n",
    "min_max_scaler = preprocessing.MinMaxScaler()\n",
    "\n",
    "X_train_PCA_scaler = min_max_scaler.fit_transform(X_train_PCA)\n",
    "X_validation_PCA_scaler = min_max_scaler.fit_transform(X_validation_PCA)\n",
    "\n",
    "X_train_fs_scaler = min_max_scaler.fit_transform(X_train_fs)\n",
    "X_test_fs_scaler = min_max_scaler.fit_transform(X_test_fs)"
   ]
  },
  {
   "cell_type": "code",
   "execution_count": null,
   "metadata": {},
   "outputs": [],
   "source": [
    "mlp_PCA = neural_network.MLPClassifier(max_iter=1000)\n",
    "mlp_fs = neural_network.MLPClassifier(max_iter=1000)\n",
    "mlp_PCA = mlp_PCA.fit(X_train_PCA_scaler,y_train)\n",
    "mlp_fs = mlp_fs.fit(X_train_fs_scaler,y_train)\n",
    "\n",
    "y_pred_PCA = mlp_PCA.predict(X_validation_PCA_scaler)\n",
    "y_pred_fs = mlp_fs.predict(X_test_fs_scaler)\n",
    "print('=========================== ACCURACY WITH PCA ===========================')\n",
    "print('Accuracy de MLPClassifier sobre el conjunto de entrenamiento es: {:.2f}'.format(mlp_PCA.score(X_train_PCA_scaler, y_train)))\n",
    "print('Accuracy de MLPClassifier sobre el conjunto de prueba es: {:.2f}'.format(mlp_PCA.score(X_validation_PCA_scaler, y_validation))) \n",
    "print('=========================== ACCURACY WITH FS ===========================')\n",
    "print('Accuracy de MLPClassifier sobre el conjunto de entrenamiento es: {:.2f}'.format(mlp_fs.score(X_train_fs_scaler, y_train)))\n",
    "print('Accuracy de MLPClassifier sobre el conjunto de prueba es: {:.2f}'.format(mlp_fs.score(X_test_fs_scaler, y_validation))) "
   ]
  },
  {
   "cell_type": "markdown",
   "metadata": {},
   "source": [
    "**Comparación en los 3 métodos**: A continuación se hace una comparación de los 3 métodos según el accuracy que recibió la predicción con el conjunto de prueba de cada modelo."
   ]
  },
  {
   "cell_type": "code",
   "execution_count": null,
   "metadata": {},
   "outputs": [],
   "source": [
    "clf_score_PCA = clf_PCA.score(X_validation_PCA, y_validation)\n",
    "clf_score_fs = clf_fs.score(X_test_fs, y_validation)\n",
    "rf_score_PCA = rf_PCA.score(X_validation_PCA, y_validation)\n",
    "rf_score_fs = rf_fs.score(X_test_fs, y_validation)\n",
    "mlp_score_PCA = mlp_PCA.score(X_validation_PCA_scaler, y_validation)\n",
    "mlp_score_fs = mlp_fs.score(X_test_fs_scaler, y_validation)\n",
    "\n",
    "fig, ax = plt.subplots()\n",
    "rects1=ax.bar(np.arange(3)-0.35/2,[clf_score_PCA,rf_score_PCA,mlp_score_PCA],0.35,label=\"Without FS\")\n",
    "rects2=ax.bar(np.arange(3)+0.35/2,[clf_score_fs,rf_score_fs,mlp_score_fs],0.35,label=\"With FS\")\n",
    "\n",
    "for rect in rects1:\n",
    "    height = rect.get_height()\n",
    "    ax.text(rect.get_x() + rect.get_width()/2., height, '%.3f' % height, ha='center', va='bottom')\n",
    "\n",
    "for rect in rects2:\n",
    "    height = rect.get_height()\n",
    "    ax.text(rect.get_x() + rect.get_width()/2., height, '%.3f' % height, ha='center', va='bottom')\n",
    "\n",
    "ax.set_ylabel('Accuracy')\n",
    "ax.set_xticks(np.arange(3))\n",
    "ax.set_xticklabels([\"Arbol de decisión\",\"Random Forest\",\"Redes Neuronales\"])\n",
    "ax.legend(loc='upper left')\n",
    "ax.set_ylim(0, 1.2)\n",
    "\n",
    "plt.show()"
   ]
  },
  {
   "cell_type": "markdown",
   "metadata": {},
   "source": [
    "Como se puede observar utilizando los modelos de Machine Learning el accuracy mejora cuando se realiza una selección de características obteniendo al final 20 características."
   ]
  },
  {
   "cell_type": "code",
   "execution_count": null,
   "metadata": {},
   "outputs": [],
   "source": [
    "cmatrix2 = confusion_matrix(y_validation, y_pred2)\n",
    "print(\"==============================================================\")\n",
    "print(\"Matriz de confusión:\\n\", cmatrix2)\n",
    "print(\"==============================================================\")\n",
    "print(\"Reporte de clasificación: \")\n",
    "print(classification_report(y_validation, y_pred2))"
   ]
  }
 ],
 "metadata": {
  "kernelspec": {
   "display_name": "Python 3",
   "language": "python",
   "name": "python3"
  },
  "language_info": {
   "codemirror_mode": {
    "name": "ipython",
    "version": 3
   },
   "file_extension": ".py",
   "mimetype": "text/x-python",
   "name": "python",
   "nbconvert_exporter": "python",
   "pygments_lexer": "ipython3",
   "version": "3.12.0"
  }
 },
 "nbformat": 4,
 "nbformat_minor": 2
}
